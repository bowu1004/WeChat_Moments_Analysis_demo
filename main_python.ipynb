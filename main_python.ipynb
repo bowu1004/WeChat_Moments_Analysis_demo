{
 "cells": [
  {
   "cell_type": "code",
   "execution_count": 1,
   "metadata": {
    "collapsed": false
   },
   "outputs": [
    {
     "name": "stdout",
     "output_type": "stream",
     "text": [
      "█\r"
     ]
    },
    {
     "name": "stderr",
     "output_type": "stream",
     "text": [
      "Getting uuid of QR code.\n",
      "Downloading QR code.\n",
      "Please scan the QR code to log in.\n",
      "Please press confirm on your phone.\n",
      "Loading the contact, this may take a little while.\n",
      "Login successfully as XXX\n"
     ]
    }
   ],
   "source": [
    "import itchat \n",
    "itchat.login() \n",
    "#爬取自己好友相关信息， 返回一个json文件 \n",
    "friends = itchat.get_friends(update=True)[0:] "
   ]
  },
  {
   "cell_type": "code",
   "execution_count": 2,
   "metadata": {
    "collapsed": false
   },
   "outputs": [
    {
     "name": "stdout",
     "output_type": "stream",
     "text": [
      "男性好友： 60.16%\n",
      "女性好友： 36.59%\n",
      "不明性别好友： 3.25%\n"
     ]
    }
   ],
   "source": [
    "male = female = other = 0 \n",
    "for i in friends[1:]: \n",
    "    sex = i[\"Sex\"] \n",
    "    if sex == 1: \n",
    "        male += 1 \n",
    "    elif sex == 2: \n",
    "        female += 1 \n",
    "    else: \n",
    "        other +=1 \n",
    "total = len(friends[1:]) \n",
    "print(\"男性好友： %.2f%%\" % (float(male)/total*100) + \"\\n\" + \n",
    "\"女性好友： %.2f%%\" % (float(female) / total * 100) + \"\\n\" + \n",
    "\"不明性别好友： %.2f%%\" % (float(other) / total * 100)) "
   ]
  },
  {
   "cell_type": "code",
   "execution_count": 3,
   "metadata": {
    "collapsed": false
   },
   "outputs": [],
   "source": [
    "def get_var(var): \n",
    "    variable = [] \n",
    "    for i in friends: \n",
    "        value = i[var] \n",
    "        variable.append(value) \n",
    "    return variable \n",
    "#调用函数得到各变量，并把数据存到excel文件中，保存到桌面 \n",
    "NickName = get_var(\"NickName\") \n",
    "Sex = get_var('Sex') \n",
    "Province = get_var('Province') \n",
    "City = get_var('City') \n",
    "Signature = get_var('Signature') \n",
    "from pandas import DataFrame \n",
    "data = {'NickName': NickName, 'Sex': Sex, 'Province': Province, \n",
    "        'City': City, 'Signature': Signature} \n",
    "frame = DataFrame(data) \n",
    "frame.to_excel('data.xls', index=True)"
   ]
  },
  {
   "cell_type": "code",
   "execution_count": 4,
   "metadata": {
    "collapsed": false
   },
   "outputs": [],
   "source": [
    "import re \n",
    "siglist = [] \n",
    "for i in friends: \n",
    "    signature = i[\"Signature\"].strip().replace(\"span\",\"\").replace(\"class\",\"\").replace(\"emoji\",\"\") \n",
    "    rep = re.compile(\"1f\\d+\\w*|[<>/=]\") \n",
    "    signature = rep.sub(\"\", signature) \n",
    "    siglist.append(signature) \n",
    "text = \"\".join(siglist) "
   ]
  },
  {
   "cell_type": "code",
   "execution_count": 5,
   "metadata": {
    "collapsed": false
   },
   "outputs": [
    {
     "name": "stderr",
     "output_type": "stream",
     "text": [
      "Building prefix dict from the default dictionary ...\n",
      "Loading model from cache /var/folders/8x/_9bd46q11d14svzclrzq61480000gn/T/jieba.cache\n",
      "Loading model cost 0.446 seconds.\n",
      "Prefix dict has been built succesfully.\n"
     ]
    }
   ],
   "source": [
    "import jieba \n",
    "wordlist = jieba.cut(text, cut_all=False) \n",
    "word_space_split = \" \".join(wordlist)"
   ]
  },
  {
   "cell_type": "code",
   "execution_count": null,
   "metadata": {
    "collapsed": false
   },
   "outputs": [],
   "source": [
    "import matplotlib.pyplot as plt \n",
    "from wordcloud import WordCloud, ImageColorGenerator \n",
    "import numpy as np \n",
    "import PIL.Image as Image \n",
    "coloring = np.array(Image.open(\"/dog.jpg\")) \n",
    "my_wordcloud = WordCloud(background_color=\"white\", max_words=2000, \n",
    "                         mask=coloring, max_font_size=60, random_state=42, scale=2, \n",
    "                         font_path=\"/CHN_fonts/SimSun.ttf\").generate(word_space_split) \n",
    " \n",
    "image_colors = ImageColorGenerator(coloring) \n",
    "plt.imshow(my_wordcloud.recolor(color_func=image_colors)) \n",
    "plt.imshow(my_wordcloud) \n",
    "plt.axis(\"off\") \n",
    "plt.show() "
   ]
  },
  {
   "cell_type": "code",
   "execution_count": null,
   "metadata": {
    "collapsed": true
   },
   "outputs": [],
   "source": []
  }
 ],
 "metadata": {
  "kernelspec": {
   "display_name": "Python 2",
   "language": "python",
   "name": "python2"
  },
  "language_info": {
   "codemirror_mode": {
    "name": "ipython",
    "version": 2
   },
   "file_extension": ".py",
   "mimetype": "text/x-python",
   "name": "python",
   "nbconvert_exporter": "python",
   "pygments_lexer": "ipython2",
   "version": "2.7.13"
  }
 },
 "nbformat": 4,
 "nbformat_minor": 0
}
